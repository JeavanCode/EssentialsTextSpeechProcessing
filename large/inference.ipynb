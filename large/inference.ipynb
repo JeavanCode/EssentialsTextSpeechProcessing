{
 "cells": [
  {
   "cell_type": "code",
   "execution_count": 13,
   "metadata": {},
   "outputs": [
    {
     "name": "stdout",
     "output_type": "stream",
     "text": [
      "loading weights from pretrained gpt: gpt2-large\n",
      "forcing vocab_size=50257, block_size=1024, bias=True\n",
      "overriding dropout rate to 0.0\n",
      "number of parameters:  774.03M\n"
     ]
    }
   ],
   "source": [
    "import warnings\n",
    "from utils import GoEmotionConfig\n",
    "from gpt2 import GPTCls\n",
    "import torch\n",
    "import tiktoken\n",
    "warnings.filterwarnings(\"ignore\")\n",
    "class EmotionDetector():\n",
    "    def __init__(self, config):\n",
    "        self.config = config\n",
    "        self.emotions = ['admiration', 'amusement', 'anger', 'annoyance', 'approval', 'caring', 'confusion', 'curiosity', 'desire', 'disappointment', 'disapproval', 'disgust', 'embarrassment', 'excitement', 'fear', 'gratitude', 'grief', 'joy', 'love', 'nervousness', 'optimism', 'pride', 'realization', 'relief', 'remorse', 'sadness', 'surprise', 'neutral']\n",
    "        self.model = GPTCls(config=self.config).to(self.config.device)\n",
    "        state_dict = torch.load(\"goemotion_1.pth\", map_location=self.config.device)\n",
    "        self.model.backbone.load_state_dict(state_dict['backbone'])\n",
    "        self.model.cls_head.load_state_dict(state_dict['cls'])\n",
    "        self.tokenizer = tiktoken.get_encoding(\"gpt2\")\n",
    "    \n",
    "    def inference(self, text, threshold=0.4):\n",
    "        self.model.eval()\n",
    "        encoded_text = torch.tensor(self.tokenizer.encode(text)).unsqueeze(0).to(self.config.device)\n",
    "        print(f'input shape: {encoded_text.shape}')\n",
    "        logits = self.model(encoded_text)\n",
    "        probs = logits.sigmoid()\n",
    "        major_emotion, major_prob = self.emotions[torch.argmax(probs, dim=1).item()], torch.max(probs).item()\n",
    "        preds = probs.clone()\n",
    "        preds[preds < threshold] = 0\n",
    "        preds[preds >= threshold] = 1\n",
    "        preds, probs = preds.squeeze(0), probs.squeeze(0)\n",
    "        all_emotions = {}\n",
    "        for i, each_prob in enumerate(preds):\n",
    "            if each_prob == 1:\n",
    "                all_emotions[self.emotions[i]] = round(probs[i].item(), 4)\n",
    "        all_emotions = sorted(all_emotions.items(), key=lambda x:x[1], reverse=True)\n",
    "        print(f\"all emotions: {all_emotions}, major emotion: {major_emotion}, major prob: {major_prob:.4f}\")\n",
    "        return all_emotions, major_emotion, major_prob\n",
    "config = GoEmotionConfig()\n",
    "ed = EmotionDetector(config=config)"
   ]
  },
  {
   "cell_type": "code",
   "execution_count": 14,
   "metadata": {},
   "outputs": [
    {
     "name": "stdout",
     "output_type": "stream",
     "text": [
      "input shape: torch.Size([1, 3])\n",
      "all emotions: [('anger', 0.6889)], major emotion: anger, major prob: 0.6889\n"
     ]
    }
   ],
   "source": [
    "ed.inference(\"Fuck you!\");"
   ]
  },
  {
   "cell_type": "code",
   "execution_count": 15,
   "metadata": {},
   "outputs": [
    {
     "name": "stdout",
     "output_type": "stream",
     "text": [
      "input shape: torch.Size([1, 12])\n",
      "all emotions: [('neutral', 0.4791), ('admiration', 0.4376)], major emotion: neutral, major prob: 0.4791\n"
     ]
    }
   ],
   "source": [
    "ed.inference(\"John is more than happy about the result of the exam.\");"
   ]
  },
  {
   "cell_type": "code",
   "execution_count": 16,
   "metadata": {},
   "outputs": [
    {
     "name": "stdout",
     "output_type": "stream",
     "text": [
      "input shape: torch.Size([1, 15])\n",
      "all emotions: [('curiosity', 0.4611), ('neutral', 0.4444)], major emotion: curiosity, major prob: 0.4611\n"
     ]
    }
   ],
   "source": [
    "ed.inference(\"Do you really think it is a good idea to go to the party?\");"
   ]
  },
  {
   "cell_type": "code",
   "execution_count": 17,
   "metadata": {},
   "outputs": [
    {
     "name": "stdout",
     "output_type": "stream",
     "text": [
      "input shape: torch.Size([1, 5])\n",
      "all emotions: [('approval', 0.698)], major emotion: approval, major prob: 0.6980\n"
     ]
    }
   ],
   "source": [
    "ed.inference(\"I agree with you.\");"
   ]
  },
  {
   "cell_type": "code",
   "execution_count": 27,
   "metadata": {},
   "outputs": [
    {
     "name": "stdout",
     "output_type": "stream",
     "text": [
      "input shape: torch.Size([1, 12])\n",
      "all emotions: [('joy', 0.5754), ('neutral', 0.4343), ('admiration', 0.4209)], major emotion: joy, major prob: 0.5754\n"
     ]
    }
   ],
   "source": [
    "ed.inference(\"He was so happy but I am not happy at all.\");"
   ]
  },
  {
   "cell_type": "code",
   "execution_count": 31,
   "metadata": {},
   "outputs": [
    {
     "name": "stdout",
     "output_type": "stream",
     "text": [
      "input shape: torch.Size([1, 5])\n",
      "all emotions: [('neutral', 0.4183), ('approval', 0.4139)], major emotion: neutral, major prob: 0.4183\n"
     ]
    }
   ],
   "source": [
    "ed.inference(\"Ah that's bad.\");"
   ]
  }
 ],
 "metadata": {
  "kernelspec": {
   "display_name": "main",
   "language": "python",
   "name": "python3"
  },
  "language_info": {
   "codemirror_mode": {
    "name": "ipython",
    "version": 3
   },
   "file_extension": ".py",
   "mimetype": "text/x-python",
   "name": "python",
   "nbconvert_exporter": "python",
   "pygments_lexer": "ipython3",
   "version": "3.12.4"
  }
 },
 "nbformat": 4,
 "nbformat_minor": 2
}
