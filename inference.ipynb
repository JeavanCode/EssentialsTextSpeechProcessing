{
 "cells": [
  {
   "cell_type": "code",
   "execution_count": 8,
   "metadata": {},
   "outputs": [
    {
     "name": "stdout",
     "output_type": "stream",
     "text": [
      "number of parameters:  124.44M\n"
     ]
    }
   ],
   "source": [
    "from utils import Config\n",
    "from gpt2 import GPTCls\n",
    "import torch\n",
    "import tiktoken\n",
    "class EmotionDetector():\n",
    "    def __init__(self, config):\n",
    "        self.config = config\n",
    "        self.emotions = ['admiration', 'amusement', 'anger', 'annoyance', 'approval', 'caring', 'confusion', 'curiosity', 'desire', 'disappointment', 'disapproval', 'disgust', 'embarrassment', 'excitement', 'fear', 'gratitude', 'grief', 'joy', 'love', 'nervousness', 'optimism', 'pride', 'realization', 'relief', 'remorse', 'sadness', 'surprise', 'neutral']\n",
    "        self.model = GPTCls(config=self.config, load_gpt2=False).to(self.config.device)\n",
    "        self.model.load_state_dict(torch.load(\"3.pth\", weights_only=True, map_location=self.config.device))\n",
    "        self.tokenizer = tiktoken.get_encoding(\"gpt2\")\n",
    "    \n",
    "    def inference(self, text, threshold=0.3):\n",
    "        self.model.eval()\n",
    "        encoded_text = torch.tensor(self.tokenizer.encode(text)).unsqueeze(0).to(self.config.device)\n",
    "        logits = self.model(encoded_text)\n",
    "        probs = logits.sigmoid()\n",
    "        preds = probs.clone()\n",
    "        preds[preds < threshold] = 0\n",
    "        preds[preds >= threshold] = 1\n",
    "        preds, probs = preds.squeeze(0), probs.squeeze(0)\n",
    "        all_emotions = {}\n",
    "        for i, each_prob in enumerate(preds):\n",
    "            if each_prob == 1:\n",
    "                all_emotions[self.emotions[i]] = round(probs[i].item(), 4)\n",
    "        all_emotions = sorted(all_emotions.items(), key=lambda x:x[1], reverse=True)\n",
    "        print(f\"all emotions: {all_emotions}\")\n",
    "        return all_emotions\n",
    "config = Config()\n",
    "ed = EmotionDetector(config=config)"
   ]
  },
  {
   "cell_type": "code",
   "execution_count": 9,
   "metadata": {},
   "outputs": [
    {
     "name": "stdout",
     "output_type": "stream",
     "text": [
      "all emotions: [('sadness', 0.989)]\n"
     ]
    }
   ],
   "source": [
    "ed.inference(\"I am very sad.\");"
   ]
  },
  {
   "cell_type": "code",
   "execution_count": 10,
   "metadata": {},
   "outputs": [
    {
     "name": "stdout",
     "output_type": "stream",
     "text": [
      "all emotions: [('joy', 0.8425)]\n"
     ]
    }
   ],
   "source": [
    "ed.inference(\"John is more than happy about the result of the exam.\");"
   ]
  },
  {
   "cell_type": "code",
   "execution_count": 11,
   "metadata": {},
   "outputs": [
    {
     "name": "stdout",
     "output_type": "stream",
     "text": [
      "all emotions: [('curiosity', 0.3292)]\n"
     ]
    }
   ],
   "source": [
    "ed.inference(\"Do you really think it is a good idea to go to the party\");"
   ]
  },
  {
   "cell_type": "code",
   "execution_count": 12,
   "metadata": {},
   "outputs": [
    {
     "name": "stdout",
     "output_type": "stream",
     "text": [
      "all emotions: [('approval', 0.9936)]\n"
     ]
    }
   ],
   "source": [
    "ed.inference(\"I agree with you\");"
   ]
  },
  {
   "cell_type": "code",
   "execution_count": 13,
   "metadata": {},
   "outputs": [
    {
     "name": "stdout",
     "output_type": "stream",
     "text": [
      "all emotions: [('amusement', 0.8112), ('love', 0.4416), ('joy', 0.3582), ('excitement', 0.3419), ('optimism', 0.3076)]\n"
     ]
    }
   ],
   "source": [
    "ed.inference(\"lol\");"
   ]
  },
  {
   "cell_type": "code",
   "execution_count": 14,
   "metadata": {},
   "outputs": [
    {
     "name": "stdout",
     "output_type": "stream",
     "text": [
      "all emotions: [('admiration', 0.629), ('neutral', 0.4327)]\n"
     ]
    }
   ],
   "source": [
    "ed.inference(\"The Japanese team defeated the Chinese team.\");"
   ]
  },
  {
   "cell_type": "code",
   "execution_count": null,
   "metadata": {},
   "outputs": [],
   "source": []
  }
 ],
 "metadata": {
  "kernelspec": {
   "display_name": "main",
   "language": "python",
   "name": "python3"
  },
  "language_info": {
   "codemirror_mode": {
    "name": "ipython",
    "version": 3
   },
   "file_extension": ".py",
   "mimetype": "text/x-python",
   "name": "python",
   "nbconvert_exporter": "python",
   "pygments_lexer": "ipython3",
   "version": "3.10.14"
  }
 },
 "nbformat": 4,
 "nbformat_minor": 2
}
